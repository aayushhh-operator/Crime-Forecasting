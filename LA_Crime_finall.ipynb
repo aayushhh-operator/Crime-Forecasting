{
  "cells": [
    {
      "cell_type": "markdown",
      "metadata": {
        "id": "view-in-github",
        "colab_type": "text"
      },
      "source": [
        "<a href=\"https://colab.research.google.com/github/aayushhh-operator/Crime-Forecasting/blob/daksh/LA_Crime_finall.ipynb\" target=\"_parent\"><img src=\"https://colab.research.google.com/assets/colab-badge.svg\" alt=\"Open In Colab\"/></a>"
      ]
    },
    {
      "cell_type": "code",
      "source": [
        "!pip install holidays"
      ],
      "metadata": {
        "colab": {
          "base_uri": "https://localhost:8080/"
        },
        "id": "6nXeSEkMBjpk",
        "outputId": "8bcd7878-7671-42bc-caa2-bb02136bc44f"
      },
      "execution_count": 1,
      "outputs": [
        {
          "output_type": "stream",
          "name": "stdout",
          "text": [
            "Collecting holidays\n",
            "  Downloading holidays-0.68-py3-none-any.whl.metadata (27 kB)\n",
            "Requirement already satisfied: python-dateutil in /usr/local/lib/python3.11/dist-packages (from holidays) (2.9.0.post0)\n",
            "Requirement already satisfied: six>=1.5 in /usr/local/lib/python3.11/dist-packages (from python-dateutil->holidays) (1.17.0)\n",
            "Downloading holidays-0.68-py3-none-any.whl (824 kB)\n",
            "\u001b[2K   \u001b[90m━━━━━━━━━━━━━━━━━━━━━━━━━━━━━━━━━━━━━━━━\u001b[0m \u001b[32m824.7/824.7 kB\u001b[0m \u001b[31m13.4 MB/s\u001b[0m eta \u001b[36m0:00:00\u001b[0m\n",
            "\u001b[?25hInstalling collected packages: holidays\n",
            "Successfully installed holidays-0.68\n"
          ]
        }
      ]
    },
    {
      "cell_type": "code",
      "execution_count": 2,
      "metadata": {
        "colab": {
          "base_uri": "https://localhost:8080/"
        },
        "id": "MBDDKkRXaKHl",
        "outputId": "cb9c6a8e-7350-435a-cd6b-245217c43374"
      },
      "outputs": [
        {
          "output_type": "stream",
          "name": "stdout",
          "text": [
            "Collecting prophet==1.1.6\n",
            "  Downloading prophet-1.1.6-py3-none-manylinux_2_17_x86_64.manylinux2014_x86_64.whl.metadata (3.5 kB)\n",
            "Collecting cmdstanpy>=1.0.4 (from prophet==1.1.6)\n",
            "  Downloading cmdstanpy-1.2.5-py3-none-any.whl.metadata (4.0 kB)\n",
            "Requirement already satisfied: numpy>=1.15.4 in /usr/local/lib/python3.11/dist-packages (from prophet==1.1.6) (1.26.4)\n",
            "Requirement already satisfied: matplotlib>=2.0.0 in /usr/local/lib/python3.11/dist-packages (from prophet==1.1.6) (3.10.0)\n",
            "Requirement already satisfied: pandas>=1.0.4 in /usr/local/lib/python3.11/dist-packages (from prophet==1.1.6) (2.2.2)\n",
            "Requirement already satisfied: holidays<1,>=0.25 in /usr/local/lib/python3.11/dist-packages (from prophet==1.1.6) (0.68)\n",
            "Requirement already satisfied: tqdm>=4.36.1 in /usr/local/lib/python3.11/dist-packages (from prophet==1.1.6) (4.67.1)\n",
            "Requirement already satisfied: importlib-resources in /usr/local/lib/python3.11/dist-packages (from prophet==1.1.6) (6.5.2)\n",
            "Collecting stanio<2.0.0,>=0.4.0 (from cmdstanpy>=1.0.4->prophet==1.1.6)\n",
            "  Downloading stanio-0.5.1-py3-none-any.whl.metadata (1.6 kB)\n",
            "Requirement already satisfied: python-dateutil in /usr/local/lib/python3.11/dist-packages (from holidays<1,>=0.25->prophet==1.1.6) (2.9.0.post0)\n",
            "Requirement already satisfied: contourpy>=1.0.1 in /usr/local/lib/python3.11/dist-packages (from matplotlib>=2.0.0->prophet==1.1.6) (1.3.1)\n",
            "Requirement already satisfied: cycler>=0.10 in /usr/local/lib/python3.11/dist-packages (from matplotlib>=2.0.0->prophet==1.1.6) (0.12.1)\n",
            "Requirement already satisfied: fonttools>=4.22.0 in /usr/local/lib/python3.11/dist-packages (from matplotlib>=2.0.0->prophet==1.1.6) (4.56.0)\n",
            "Requirement already satisfied: kiwisolver>=1.3.1 in /usr/local/lib/python3.11/dist-packages (from matplotlib>=2.0.0->prophet==1.1.6) (1.4.8)\n",
            "Requirement already satisfied: packaging>=20.0 in /usr/local/lib/python3.11/dist-packages (from matplotlib>=2.0.0->prophet==1.1.6) (24.2)\n",
            "Requirement already satisfied: pillow>=8 in /usr/local/lib/python3.11/dist-packages (from matplotlib>=2.0.0->prophet==1.1.6) (11.1.0)\n",
            "Requirement already satisfied: pyparsing>=2.3.1 in /usr/local/lib/python3.11/dist-packages (from matplotlib>=2.0.0->prophet==1.1.6) (3.2.1)\n",
            "Requirement already satisfied: pytz>=2020.1 in /usr/local/lib/python3.11/dist-packages (from pandas>=1.0.4->prophet==1.1.6) (2025.1)\n",
            "Requirement already satisfied: tzdata>=2022.7 in /usr/local/lib/python3.11/dist-packages (from pandas>=1.0.4->prophet==1.1.6) (2025.1)\n",
            "Requirement already satisfied: six>=1.5 in /usr/local/lib/python3.11/dist-packages (from python-dateutil->holidays<1,>=0.25->prophet==1.1.6) (1.17.0)\n",
            "Downloading prophet-1.1.6-py3-none-manylinux_2_17_x86_64.manylinux2014_x86_64.whl (14.4 MB)\n",
            "\u001b[2K   \u001b[90m━━━━━━━━━━━━━━━━━━━━━━━━━━━━━━━━━━━━━━━━\u001b[0m \u001b[32m14.4/14.4 MB\u001b[0m \u001b[31m105.8 MB/s\u001b[0m eta \u001b[36m0:00:00\u001b[0m\n",
            "\u001b[?25hDownloading cmdstanpy-1.2.5-py3-none-any.whl (94 kB)\n",
            "\u001b[2K   \u001b[90m━━━━━━━━━━━━━━━━━━━━━━━━━━━━━━━━━━━━━━━━\u001b[0m \u001b[32m94.5/94.5 kB\u001b[0m \u001b[31m5.9 MB/s\u001b[0m eta \u001b[36m0:00:00\u001b[0m\n",
            "\u001b[?25hDownloading stanio-0.5.1-py3-none-any.whl (8.1 kB)\n",
            "Installing collected packages: stanio, cmdstanpy, prophet\n",
            "Successfully installed cmdstanpy-1.2.5 prophet-1.1.6 stanio-0.5.1\n"
          ]
        }
      ],
      "source": [
        "!pip install prophet==1.1.6"
      ]
    },
    {
      "cell_type": "code",
      "source": [
        "!pip install statsmodels"
      ],
      "metadata": {
        "colab": {
          "base_uri": "https://localhost:8080/"
        },
        "id": "Vu0E3cOhBvzz",
        "outputId": "c26f2fad-0254-4d9b-be25-be168f096253"
      },
      "execution_count": 3,
      "outputs": [
        {
          "output_type": "stream",
          "name": "stdout",
          "text": [
            "Collecting statsmodels\n",
            "  Downloading statsmodels-0.14.4-cp311-cp311-manylinux_2_17_x86_64.manylinux2014_x86_64.whl.metadata (9.2 kB)\n",
            "Requirement already satisfied: numpy<3,>=1.22.3 in /usr/local/lib/python3.11/dist-packages (from statsmodels) (1.26.4)\n",
            "Requirement already satisfied: scipy!=1.9.2,>=1.8 in /usr/local/lib/python3.11/dist-packages (from statsmodels) (1.14.1)\n",
            "Requirement already satisfied: pandas!=2.1.0,>=1.4 in /usr/local/lib/python3.11/dist-packages (from statsmodels) (2.2.2)\n",
            "Collecting patsy>=0.5.6 (from statsmodels)\n",
            "  Downloading patsy-1.0.1-py2.py3-none-any.whl.metadata (3.3 kB)\n",
            "Requirement already satisfied: packaging>=21.3 in /usr/local/lib/python3.11/dist-packages (from statsmodels) (24.2)\n",
            "Requirement already satisfied: python-dateutil>=2.8.2 in /usr/local/lib/python3.11/dist-packages (from pandas!=2.1.0,>=1.4->statsmodels) (2.9.0.post0)\n",
            "Requirement already satisfied: pytz>=2020.1 in /usr/local/lib/python3.11/dist-packages (from pandas!=2.1.0,>=1.4->statsmodels) (2025.1)\n",
            "Requirement already satisfied: tzdata>=2022.7 in /usr/local/lib/python3.11/dist-packages (from pandas!=2.1.0,>=1.4->statsmodels) (2025.1)\n",
            "Requirement already satisfied: six>=1.5 in /usr/local/lib/python3.11/dist-packages (from python-dateutil>=2.8.2->pandas!=2.1.0,>=1.4->statsmodels) (1.17.0)\n",
            "Downloading statsmodels-0.14.4-cp311-cp311-manylinux_2_17_x86_64.manylinux2014_x86_64.whl (10.8 MB)\n",
            "\u001b[2K   \u001b[90m━━━━━━━━━━━━━━━━━━━━━━━━━━━━━━━━━━━━━━━━\u001b[0m \u001b[32m10.8/10.8 MB\u001b[0m \u001b[31m87.0 MB/s\u001b[0m eta \u001b[36m0:00:00\u001b[0m\n",
            "\u001b[?25hDownloading patsy-1.0.1-py2.py3-none-any.whl (232 kB)\n",
            "\u001b[2K   \u001b[90m━━━━━━━━━━━━━━━━━━━━━━━━━━━━━━━━━━━━━━━━\u001b[0m \u001b[32m232.9/232.9 kB\u001b[0m \u001b[31m14.9 MB/s\u001b[0m eta \u001b[36m0:00:00\u001b[0m\n",
            "\u001b[?25hInstalling collected packages: patsy, statsmodels\n",
            "Successfully installed patsy-1.0.1 statsmodels-0.14.4\n"
          ]
        }
      ]
    },
    {
      "cell_type": "code",
      "source": [
        "!pip install folium"
      ],
      "metadata": {
        "colab": {
          "base_uri": "https://localhost:8080/"
        },
        "id": "-xIhSWh1B1ej",
        "outputId": "6098b980-81de-404d-9329-e7e764d402fb"
      },
      "execution_count": 4,
      "outputs": [
        {
          "output_type": "stream",
          "name": "stdout",
          "text": [
            "Collecting folium\n",
            "  Downloading folium-0.19.5-py2.py3-none-any.whl.metadata (4.1 kB)\n",
            "Collecting branca>=0.6.0 (from folium)\n",
            "  Downloading branca-0.8.1-py3-none-any.whl.metadata (1.5 kB)\n",
            "Requirement already satisfied: jinja2>=2.9 in /usr/local/lib/python3.11/dist-packages (from folium) (3.1.6)\n",
            "Requirement already satisfied: numpy in /usr/local/lib/python3.11/dist-packages (from folium) (1.26.4)\n",
            "Requirement already satisfied: requests in /usr/local/lib/python3.11/dist-packages (from folium) (2.32.3)\n",
            "Collecting xyzservices (from folium)\n",
            "  Downloading xyzservices-2025.1.0-py3-none-any.whl.metadata (4.3 kB)\n",
            "Requirement already satisfied: MarkupSafe>=2.0 in /usr/local/lib/python3.11/dist-packages (from jinja2>=2.9->folium) (3.0.2)\n",
            "Requirement already satisfied: charset-normalizer<4,>=2 in /usr/local/lib/python3.11/dist-packages (from requests->folium) (3.4.1)\n",
            "Requirement already satisfied: idna<4,>=2.5 in /usr/local/lib/python3.11/dist-packages (from requests->folium) (3.10)\n",
            "Requirement already satisfied: urllib3<3,>=1.21.1 in /usr/local/lib/python3.11/dist-packages (from requests->folium) (2.3.0)\n",
            "Requirement already satisfied: certifi>=2017.4.17 in /usr/local/lib/python3.11/dist-packages (from requests->folium) (2025.1.31)\n",
            "Downloading folium-0.19.5-py2.py3-none-any.whl (110 kB)\n",
            "\u001b[2K   \u001b[90m━━━━━━━━━━━━━━━━━━━━━━━━━━━━━━━━━━━━━━━━\u001b[0m \u001b[32m110.9/110.9 kB\u001b[0m \u001b[31m2.4 MB/s\u001b[0m eta \u001b[36m0:00:00\u001b[0m\n",
            "\u001b[?25hDownloading branca-0.8.1-py3-none-any.whl (26 kB)\n",
            "Downloading xyzservices-2025.1.0-py3-none-any.whl (88 kB)\n",
            "\u001b[2K   \u001b[90m━━━━━━━━━━━━━━━━━━━━━━━━━━━━━━━━━━━━━━━━\u001b[0m \u001b[32m88.4/88.4 kB\u001b[0m \u001b[31m5.6 MB/s\u001b[0m eta \u001b[36m0:00:00\u001b[0m\n",
            "\u001b[?25hInstalling collected packages: xyzservices, branca, folium\n",
            "Successfully installed branca-0.8.1 folium-0.19.5 xyzservices-2025.1.0\n"
          ]
        }
      ]
    },
    {
      "cell_type": "code",
      "execution_count": 5,
      "metadata": {
        "id": "R1oepT8GaRVz"
      },
      "outputs": [],
      "source": [
        "import numpy as np\n",
        "import pandas as pd\n",
        "import matplotlib.pyplot as plt\n",
        "import seaborn as sns\n",
        "import holidays\n",
        "from statsmodels.tsa.stattools import adfuller\n",
        "from sklearn.model_selection import TimeSeriesSplit\n",
        "from statsmodels.tsa.arima.model import ARIMA\n",
        "from prophet import Prophet\n",
        "from sklearn.metrics import accuracy_score, precision_score, recall_score, f1_score, mean_squared_error, mean_absolute_percentage_error, mean_absolute_error\n",
        "from sklearn.model_selection import train_test_split, GridSearchCV, cross_val_score\n",
        "import folium\n",
        "from folium.plugins import HeatMap\n",
        "import plotly.express as px"
      ]
    },
    {
      "cell_type": "code",
      "execution_count": 6,
      "metadata": {
        "id": "TbYaCufhaZmb"
      },
      "outputs": [],
      "source": [
        "df = pd.read_csv('/content/Clean_LA_Crime.csv')"
      ]
    },
    {
      "cell_type": "code",
      "execution_count": 7,
      "metadata": {
        "id": "z_h3mPCufb2b"
      },
      "outputs": [],
      "source": [
        "df['DateTime'] = pd.to_datetime(df['DATE OCC'].astype(str) + ' ' + df['TIME OCC'].astype(str))"
      ]
    },
    {
      "cell_type": "markdown",
      "source": [
        "# Combine 24 Hours"
      ],
      "metadata": {
        "id": "MCqZaNwtEMbD"
      }
    },
    {
      "cell_type": "code",
      "source": [
        "# Load and preprocess your data (assuming it's already loaded and 'df' is your DataFrame)\n",
        "df['DateTime'] = pd.to_datetime(df['DATE OCC'].astype(str) + ' ' + df['TIME OCC'].astype(str))\n",
        "df_resampled = df.resample('H', on='DateTime').size()\n",
        "\n",
        "# Split data into training and testing\n",
        "train_data = df_resampled[:-24]\n",
        "test_data = df_resampled[-24:]\n",
        "\n",
        "# ARIMA model\n",
        "arima_model = ARIMA(train_data, order=(5, 1, 0))  # Adjust order based on ACF/PACF plots or grid search\n",
        "arima_model_fit = arima_model.fit()\n",
        "arima_forecast = arima_model_fit.forecast(steps=24)\n",
        "\n",
        "# Prepare ARIMA forecasts as regressor for Prophet\n",
        "arima_forecast_df = pd.DataFrame({\n",
        "    'ds': pd.date_range(start=train_data.index[-1], periods=25, freq='H')[1:],\n",
        "    'arima_forecast': arima_forecast\n",
        "})\n",
        "\n",
        "# Prophet model using ARIMA forecast as an additional regressor\n",
        "df_prophet = train_data.reset_index()\n",
        "df_prophet.columns = ['ds', 'y']\n",
        "\n",
        "prophet_model = Prophet()\n",
        "prophet_model.add_regressor('arima_forecast')\n",
        "\n",
        "# Merging ARIMA forecasts with training data for Prophet\n",
        "prophet_train = df_prophet.merge(arima_forecast_df, on='ds', how='outer')\n",
        "\n",
        "# Ensure 'y' is filled for the ARIMA forecast periods before dropping NA\n",
        "prophet_train['y'] = prophet_train['y'].fillna(method='ffill') # Forward fill missing 'y' values\n",
        "\n",
        "# Now drop rows with any remaining missing values (likely in 'arima_forecast' for early periods)\n",
        "prophet_train = prophet_train.dropna()\n",
        "\n",
        "# Check if you still have enough data\n",
        "if len(prophet_train) < 2:\n",
        "    raise ValueError(\"Not enough data after merging and filling to fit Prophet. You may need more data or adjust your forecast periods.\")\n",
        "\n",
        "prophet_model.fit(prophet_train)  # Fit on non-na to avoid errors from initial missing ARIMA forecasts\n",
        "\n",
        "# Create future dataframe for Prophet predictions and merge ARIMA forecasts\n",
        "future = prophet_model.make_future_dataframe(periods=24, freq='H')\n",
        "\n",
        "# Fill NaN values in 'arima_forecast' with 0\n",
        "# to prevent issues with Prophet requiring all regressors\n",
        "future['arima_forecast'] = future.merge(arima_forecast_df, on='ds', how='left')['arima_forecast'].fillna(0)\n",
        "\n",
        "\n",
        "# Predict with Prophet using ARIMA forecast\n",
        "forecast_prophet = prophet_model.predict(future)\n",
        "\n",
        "# Calculate MSE and RMSE\n",
        "from sklearn.metrics import mean_squared_error\n",
        "\n",
        "mse_prophet = mean_squared_error(test_data.values, forecast_prophet['yhat'][-24:])\n",
        "rmse_prophet = np.sqrt(mse_prophet)\n",
        "print({'MSE': mse_prophet, 'RMSE': rmse_prophet})"
      ],
      "metadata": {
        "colab": {
          "base_uri": "https://localhost:8080/"
        },
        "id": "RcBiqEXjMLxd",
        "outputId": "6c4320db-afed-4705-e9d7-a08e3518a41e"
      },
      "execution_count": 8,
      "outputs": [
        {
          "output_type": "stream",
          "name": "stderr",
          "text": [
            "<ipython-input-8-e4542ee7b6b5>:3: FutureWarning: 'H' is deprecated and will be removed in a future version, please use 'h' instead.\n",
            "  df_resampled = df.resample('H', on='DateTime').size()\n",
            "<ipython-input-8-e4542ee7b6b5>:16: FutureWarning: 'H' is deprecated and will be removed in a future version, please use 'h' instead.\n",
            "  'ds': pd.date_range(start=train_data.index[-1], periods=25, freq='H')[1:],\n",
            "<ipython-input-8-e4542ee7b6b5>:31: FutureWarning: Series.fillna with 'method' is deprecated and will raise in a future version. Use obj.ffill() or obj.bfill() instead.\n",
            "  prophet_train['y'] = prophet_train['y'].fillna(method='ffill') # Forward fill missing 'y' values\n",
            "INFO:prophet:Disabling yearly seasonality. Run prophet with yearly_seasonality=True to override this.\n",
            "INFO:prophet:Disabling weekly seasonality. Run prophet with weekly_seasonality=True to override this.\n",
            "INFO:prophet:Disabling daily seasonality. Run prophet with daily_seasonality=True to override this.\n",
            "INFO:prophet:n_changepoints greater than number of observations. Using 18.\n"
          ]
        },
        {
          "output_type": "stream",
          "name": "stdout",
          "text": [
            "{'MSE': 3.0, 'RMSE': 1.7320508075688772}\n"
          ]
        },
        {
          "output_type": "stream",
          "name": "stderr",
          "text": [
            "/usr/local/lib/python3.11/dist-packages/prophet/forecaster.py:1854: FutureWarning: 'H' is deprecated and will be removed in a future version, please use 'h' instead.\n",
            "  dates = pd.date_range(\n"
          ]
        }
      ]
    },
    {
      "cell_type": "markdown",
      "source": [
        "# Combine 1 Week"
      ],
      "metadata": {
        "id": "J9_szywaEPgz"
      }
    },
    {
      "cell_type": "code",
      "source": [
        "# Splitting data into training and testing sets for one week forecast\n",
        "train_data = df_resampled[:-168]\n",
        "test_data = df_resampled[-168:]\n",
        "\n",
        "# Fit ARIMA model and forecast for 168 hours\n",
        "arima_model = ARIMA(train_data, order=(5, 1, 0))\n",
        "arima_model_fit = arima_model.fit()\n",
        "arima_forecast = arima_model_fit.forecast(steps=168)\n",
        "\n",
        "# Prepare the data for Prophet with ARIMA forecasts\n",
        "train_data_reset = train_data.reset_index()\n",
        "train_data_reset.columns = ['ds', 'y']\n",
        "arima_forecast_df = pd.DataFrame({\n",
        "    'ds': pd.date_range(start=train_data.index[-1], periods=169, freq='H')[1:],\n",
        "    'arima_forecast': arima_forecast\n",
        "})\n",
        "\n",
        "# Fit Prophet model using ARIMA forecasts as an additional regressor\n",
        "prophet_model = Prophet()\n",
        "prophet_model.add_regressor('arima_forecast')\n",
        "# Instead of an outer merge, use a left merge to keep all training data\n",
        "prophet_train = pd.merge(train_data_reset, arima_forecast_df, on='ds', how='left')\n",
        "\n",
        "# Fill NaN values in 'arima_forecast' with 0 before fitting\n",
        "# to prevent issues with Prophet requiring all regressors to have values\n",
        "prophet_train['arima_forecast'] = prophet_train['arima_forecast'].fillna(0)\n",
        "\n",
        "prophet_model.fit(prophet_train)  # Fit on the training data with filled NaNs\n",
        "# --- CHANGES END HERE ---\n",
        "\n",
        "# Create future dataframe for Prophet predictions\n",
        "future = prophet_model.make_future_dataframe(periods=168, freq='H')\n",
        "\n",
        "# Instead of merging, directly fill 'arima_forecast' in 'future' using values from 'arima_forecast_df'\n",
        "future['arima_forecast'] = future['ds'].map(arima_forecast_df.set_index('ds')['arima_forecast']).fillna(0)\n",
        "\n",
        "# Predict with Prophet\n",
        "forecast_prophet = prophet_model.predict(future)\n",
        "\n",
        "# Calculate MSE and RMSE\n",
        "mse_prophet = mean_squared_error(test_data.values, forecast_prophet['yhat'][-168:])\n",
        "rmse_prophet = np.sqrt(mse_prophet)\n",
        "\n",
        "# Output model metrics\n",
        "model_metrics = {'MSE': [mse_prophet], 'RMSE': [rmse_prophet]}\n",
        "print(model_metrics)\n"
      ],
      "metadata": {
        "colab": {
          "base_uri": "https://localhost:8080/"
        },
        "id": "Xi_2CEC7N8oP",
        "outputId": "5f85533b-eb85-4fc7-c1da-608cec0fe52d"
      },
      "execution_count": 9,
      "outputs": [
        {
          "output_type": "stream",
          "name": "stderr",
          "text": [
            "<ipython-input-9-d99665fc1434>:14: FutureWarning: 'H' is deprecated and will be removed in a future version, please use 'h' instead.\n",
            "  'ds': pd.date_range(start=train_data.index[-1], periods=169, freq='H')[1:],\n",
            "DEBUG:cmdstanpy:input tempfile: /tmp/tmpdgkgsmk6/umlet96g.json\n",
            "DEBUG:cmdstanpy:input tempfile: /tmp/tmpdgkgsmk6/z3n8vkco.json\n",
            "DEBUG:cmdstanpy:idx 0\n",
            "DEBUG:cmdstanpy:running CmdStan, num_threads: None\n",
            "DEBUG:cmdstanpy:CmdStan args: ['/usr/local/lib/python3.11/dist-packages/prophet/stan_model/prophet_model.bin', 'random', 'seed=13650', 'data', 'file=/tmp/tmpdgkgsmk6/umlet96g.json', 'init=/tmp/tmpdgkgsmk6/z3n8vkco.json', 'output', 'file=/tmp/tmpdgkgsmk6/prophet_modelj7jk1fhg/prophet_model-20250316201313.csv', 'method=optimize', 'algorithm=lbfgs', 'iter=10000']\n",
            "20:13:13 - cmdstanpy - INFO - Chain [1] start processing\n",
            "INFO:cmdstanpy:Chain [1] start processing\n",
            "20:13:37 - cmdstanpy - INFO - Chain [1] done processing\n",
            "INFO:cmdstanpy:Chain [1] done processing\n",
            "/usr/local/lib/python3.11/dist-packages/prophet/forecaster.py:1854: FutureWarning: 'H' is deprecated and will be removed in a future version, please use 'h' instead.\n",
            "  dates = pd.date_range(\n"
          ]
        },
        {
          "output_type": "stream",
          "name": "stdout",
          "text": [
            "{'MSE': [62.59408538858535], 'RMSE': [7.911642395140553]}\n"
          ]
        }
      ]
    },
    {
      "cell_type": "markdown",
      "source": [
        "# Combine 1 Month"
      ],
      "metadata": {
        "id": "1ILamVW8F5kE"
      }
    },
    {
      "cell_type": "code",
      "source": [
        "# Splitting data into training and testing sets for one month forecast\n",
        "train_data = df_resampled[:-720]\n",
        "test_data = df_resampled[-720:]\n",
        "\n",
        "# Fit ARIMA model and forecast for 720 hours\n",
        "arima_model = ARIMA(train_data, order=(5, 1, 0))  # Adjust ARIMA order as necessary\n",
        "arima_model_fit = arima_model.fit()\n",
        "arima_forecast = arima_model_fit.forecast(steps=720)\n",
        "\n",
        "# Prepare the data for Prophet with ARIMA forecasts\n",
        "train_data_reset = train_data.reset_index()\n",
        "train_data_reset.columns = ['ds', 'y']\n",
        "arima_forecast_df = pd.DataFrame({\n",
        "    'ds': pd.date_range(start=train_data.index[-1], periods=721, freq='H')[1:],  # Generate dates for ARIMA forecasts\n",
        "    'arima_forecast': arima_forecast\n",
        "})\n",
        "\n",
        "# Fit Prophet model using ARIMA forecasts as an additional regressor\n",
        "prophet_model = Prophet()\n",
        "prophet_model.add_regressor('arima_forecast')\n",
        "\n",
        "# Use a left merge to keep all training data and fill missing ARIMA forecasts with 0\n",
        "prophet_train = pd.merge(train_data_reset, arima_forecast_df, on='ds', how='left')\n",
        "prophet_train['arima_forecast'] = prophet_train['arima_forecast'].fillna(0) # Fill missing ARIMA forecasts\n",
        "\n",
        "prophet_model.fit(prophet_train)  # Fit on the training data\n",
        "\n",
        "# Create future dataframe for Prophet predictions\n",
        "future = prophet_model.make_future_dataframe(periods=720, freq='H')\n",
        "\n",
        "# Fill 'arima_forecast' in 'future' using values from 'arima_forecast_df', fill missing with 0\n",
        "future['arima_forecast'] = future['ds'].map(arima_forecast_df.set_index('ds')['arima_forecast']).fillna(0)\n",
        "\n",
        "# Predict with Prophet\n",
        "forecast_prophet = prophet_model.predict(future)\n",
        "\n",
        "# Calculate MSE and RMSE\n",
        "mse_prophet = mean_squared_error(test_data, forecast_prophet['yhat'][-720:])\n",
        "rmse_prophet = np.sqrt(mse_prophet)\n",
        "\n",
        "# Output model metrics\n",
        "model_metrics = {'MSE': [mse_prophet], 'RMSE': [rmse_prophet]}\n",
        "print(model_metrics)\n"
      ],
      "metadata": {
        "colab": {
          "base_uri": "https://localhost:8080/"
        },
        "id": "nIJ41uXOPz-7",
        "outputId": "71cc5378-db52-48c2-e4ed-bc1ef1341878"
      },
      "execution_count": 10,
      "outputs": [
        {
          "output_type": "stream",
          "name": "stderr",
          "text": [
            "<ipython-input-10-5e78687e8280>:14: FutureWarning: 'H' is deprecated and will be removed in a future version, please use 'h' instead.\n",
            "  'ds': pd.date_range(start=train_data.index[-1], periods=721, freq='H')[1:],  # Generate dates for ARIMA forecasts\n",
            "DEBUG:cmdstanpy:input tempfile: /tmp/tmpdgkgsmk6/uvb58qnc.json\n",
            "DEBUG:cmdstanpy:input tempfile: /tmp/tmpdgkgsmk6/g24ljnu7.json\n",
            "DEBUG:cmdstanpy:idx 0\n",
            "DEBUG:cmdstanpy:running CmdStan, num_threads: None\n",
            "DEBUG:cmdstanpy:CmdStan args: ['/usr/local/lib/python3.11/dist-packages/prophet/stan_model/prophet_model.bin', 'random', 'seed=5649', 'data', 'file=/tmp/tmpdgkgsmk6/uvb58qnc.json', 'init=/tmp/tmpdgkgsmk6/g24ljnu7.json', 'output', 'file=/tmp/tmpdgkgsmk6/prophet_modelzqcgz9n1/prophet_model-20250316201350.csv', 'method=optimize', 'algorithm=lbfgs', 'iter=10000']\n",
            "20:13:50 - cmdstanpy - INFO - Chain [1] start processing\n",
            "INFO:cmdstanpy:Chain [1] start processing\n",
            "20:14:18 - cmdstanpy - INFO - Chain [1] done processing\n",
            "INFO:cmdstanpy:Chain [1] done processing\n",
            "/usr/local/lib/python3.11/dist-packages/prophet/forecaster.py:1854: FutureWarning: 'H' is deprecated and will be removed in a future version, please use 'h' instead.\n",
            "  dates = pd.date_range(\n"
          ]
        },
        {
          "output_type": "stream",
          "name": "stdout",
          "text": [
            "{'MSE': [44.027273873991426], 'RMSE': [6.635305107829739]}\n"
          ]
        }
      ]
    }
  ],
  "metadata": {
    "colab": {
      "provenance": [],
      "gpuType": "V28",
      "include_colab_link": true
    },
    "kernelspec": {
      "display_name": "Python 3",
      "name": "python3"
    },
    "language_info": {
      "name": "python"
    },
    "accelerator": "TPU"
  },
  "nbformat": 4,
  "nbformat_minor": 0
}